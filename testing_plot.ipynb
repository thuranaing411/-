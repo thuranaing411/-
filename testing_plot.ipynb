{
  "nbformat": 4,
  "nbformat_minor": 0,
  "metadata": {
    "colab": {
      "name": "Untitled8.ipynb",
      "provenance": [],
      "authorship_tag": "ABX9TyPg1xQ1H6oLVxKosPDHjLhS",
      "include_colab_link": true
    },
    "kernelspec": {
      "name": "python3",
      "display_name": "Python 3"
    },
    "accelerator": "GPU"
  },
  "cells": [
    {
      "cell_type": "markdown",
      "metadata": {
        "id": "view-in-github",
        "colab_type": "text"
      },
      "source": [
        "<a href=\"https://colab.research.google.com/github/thuranaing411/-/blob/master/testing_plot.ipynb\" target=\"_parent\"><img src=\"https://colab.research.google.com/assets/colab-badge.svg\" alt=\"Open In Colab\"/></a>"
      ]
    },
    {
      "cell_type": "code",
      "metadata": {
        "colab": {
          "base_uri": "https://localhost:8080/"
        },
        "id": "M-32rTd1OCN_",
        "outputId": "49721a1e-54e3-4b48-f02f-86a28e4c363b"
      },
      "source": [
        "import pandas as pd\r\n",
        "import numpy as np\r\n",
        "import math\r\n",
        "import matplotlib.pyplot as plt\r\n",
        "from matplotlib.colors import Normalize\r\n",
        "from matplotlib.cm import get_cmap\r\n",
        "import matplotlib.transforms as transforms\r\n",
        "\r\n",
        "np.random.seed(12345)\r\n",
        "\r\n",
        "df = pd.DataFrame([np.random.normal(32000,200000,3650), \r\n",
        "                   np.random.normal(43000,100000,3650), \r\n",
        "                   np.random.normal(43500,140000,3650), \r\n",
        "                   np.random.normal(48000,70000,3650)], \r\n",
        "                  index=[1992,1993,1994,1995])\r\n",
        "plt.bar"
      ],
      "execution_count": 93,
      "outputs": [
        {
          "output_type": "execute_result",
          "data": {
            "text/plain": [
              "<function matplotlib.pyplot.bar>"
            ]
          },
          "metadata": {
            "tags": []
          },
          "execution_count": 93
        }
      ]
    },
    {
      "cell_type": "code",
      "metadata": {
        "colab": {
          "base_uri": "https://localhost:8080/",
          "height": 283
        },
        "id": "JxOL9IQNOaV6",
        "outputId": "44d462d6-b10c-4e5b-9f08-9e812659cfc7"
      },
      "source": [
        "plt.scatter(df[0],df[2] , color = 'red')\r\n",
        "plt.scatter(df[1],df[3] ,color = 'green')"
      ],
      "execution_count": 16,
      "outputs": [
        {
          "output_type": "execute_result",
          "data": {
            "text/plain": [
              "<matplotlib.collections.PathCollection at 0x7fc9fae15eb8>"
            ]
          },
          "metadata": {
            "tags": []
          },
          "execution_count": 16
        },
        {
          "output_type": "display_data",
          "data": {
            "image/png": "[encoded data removed]",
            "text/plain": [
              "<Figure size 432x288 with 1 Axes>"
            ]
          },
          "metadata": {
            "tags": [],
            "needs_background": "light"
          }
        }
      ]
    },
    {
      "cell_type": "code",
      "metadata": {
        "colab": {
          "base_uri": "https://localhost:8080/"
        },
        "id": "IsFRHLewOcSK",
        "outputId": "4bb7f3ce-d857-4649-c54f-80a3738f55ca"
      },
      "source": [
        "df[0].mean"
      ],
      "execution_count": 19,
      "outputs": [
        {
          "output_type": "execute_result",
          "data": {
            "text/plain": [
              "<bound method Series.mean of 1992     -8941.531897\n",
              "1993    -51896.094813\n",
              "1994    152336.932066\n",
              "1995    -69708.439062\n",
              "Name: 0, dtype: float64>"
            ]
          },
          "metadata": {
            "tags": []
          },
          "execution_count": 19
        }
      ]
    },
    {
      "cell_type": "code",
      "metadata": {
        "colab": {
          "base_uri": "https://localhost:8080/"
        },
        "id": "id2QdysBVX6U",
        "outputId": "4ad06a40-a7f0-4bf9-e709-9d795b018ea3"
      },
      "source": [
        "df.info()"
      ],
      "execution_count": 51,
      "outputs": [
        {
          "output_type": "stream",
          "text": [
            "<class 'pandas.core.frame.DataFrame'>\n",
            "Int64Index: 4 entries, 1992 to 1995\n",
            "Columns: 3650 entries, 0 to 3649\n",
            "dtypes: float64(3650)\n",
            "memory usage: 114.1 KB\n"
          ],
          "name": "stdout"
        }
      ]
    },
    {
      "cell_type": "code",
      "metadata": {
        "colab": {
          "base_uri": "https://localhost:8080/"
        },
        "id": "qytr2xKSQ02-",
        "outputId": "71925dad-eeeb-427a-c581-44325e102d8c"
      },
      "source": [
        "mean = df.mean(axis=(1))\r\n",
        "mean.values"
      ],
      "execution_count": 38,
      "outputs": [
        {
          "output_type": "execute_result",
          "data": {
            "text/plain": [
              "array([33312.10747554, 41861.85954107, 39493.3049414 , 47743.55096927])"
            ]
          },
          "metadata": {
            "tags": []
          },
          "execution_count": 38
        }
      ]
    },
    {
      "cell_type": "code",
      "metadata": {
        "colab": {
          "base_uri": "https://localhost:8080/"
        },
        "id": "2Cvzxq6wRsNG",
        "outputId": "3d4299ec-8160-48bd-99ba-6fbed4730d28"
      },
      "source": [
        "std = df.std(axis = (1))\r\n",
        "std.values"
      ],
      "execution_count": 37,
      "outputs": [
        {
          "output_type": "execute_result",
          "data": {
            "text/plain": [
              "array([200630.90155252,  98398.35620334, 140369.92524017,  69781.18546914])"
            ]
          },
          "metadata": {
            "tags": []
          },
          "execution_count": 37
        }
      ]
    },
    {
      "cell_type": "code",
      "metadata": {
        "id": "em6WjHaOf6Xo",
        "outputId": "7a0e868b-1e22-47d2-8987-82f647470f7b",
        "colab": {
          "base_uri": "https://localhost:8080/",
          "height": 283
        }
      },
      "source": [
        "plt.bar(std.values,2)"
      ],
      "execution_count": 96,
      "outputs": [
        {
          "output_type": "execute_result",
          "data": {
            "text/plain": [
              "<BarContainer object of 4 artists>"
            ]
          },
          "metadata": {
            "tags": []
          },
          "execution_count": 96
        },
        {
          "output_type": "display_data",
          "data": {
            "image/png": "[encoded data removed]",
            "text/plain": [
              "<Figure size 432x288 with 1 Axes>"
            ]
          },
          "metadata": {
            "tags": [],
            "needs_background": "light"
          }
        }
      ]
    },
    {
      "cell_type": "code",
      "metadata": {
        "colab": {
          "base_uri": "https://localhost:8080/"
        },
        "id": "zcPrW2GPR5Vl",
        "outputId": "8422cb94-fe63-4356-909a-ef572a0eee54"
      },
      "source": [
        "confidence = 1.96 * (std.values / math.sqrt(3650))#formula for a confidence interval (CI) \r\n",
        "confidence"
      ],
      "execution_count": 48,
      "outputs": [
        {
          "output_type": "execute_result",
          "data": {
            "text/plain": [
              "array([6508.89796997, 3192.25431369, 4553.90228709, 2263.85174431])"
            ]
          },
          "metadata": {
            "tags": []
          },
          "execution_count": 48
        }
      ]
    },
    {
      "cell_type": "code",
      "metadata": {
        "colab": {
          "base_uri": "https://localhost:8080/"
        },
        "id": "UCf-VKgjSjzm",
        "outputId": "71f06984-957d-43d5-87a5-2f6c9429f897"
      },
      "source": [
        "a = math.sqrt(len(df.colums))"
      ],
      "execution_count": 43,
      "outputs": [
        {
          "output_type": "execute_result",
          "data": {
            "text/plain": [
              "60.41522986797286"
            ]
          },
          "metadata": {
            "tags": []
          },
          "execution_count": 43
        }
      ]
    },
    {
      "cell_type": "code",
      "metadata": {
        "colab": {
          "base_uri": "https://localhost:8080/"
        },
        "id": "pdF6kQe2TxyW",
        "outputId": "c6d5a6db-df94-478b-b251-ad844adeee50"
      },
      "source": [
        "60.41**2"
      ],
      "execution_count": 44,
      "outputs": [
        {
          "output_type": "execute_result",
          "data": {
            "text/plain": [
              "3649.3680999999997"
            ]
          },
          "metadata": {
            "tags": []
          },
          "execution_count": 44
        }
      ]
    },
    {
      "cell_type": "code",
      "metadata": {
        "id": "DaGN2LlKXBtq"
      },
      "source": [
        "threshold = 42500\r\n",
        "def colorForBar(mean, threshold, confidence):\r\n",
        "    if (mean - confidence) <= threshold and (mean + confidence) >= threshold:\r\n",
        "        return \"white\"\r\n",
        "    \r\n",
        "    if mean < threshold:\r\n",
        "        return \"blue\"\r\n",
        "    \r\n",
        "    if mean > threshold:\r\n",
        "        return \"red\"\r\n",
        "colors=[colorForBar(mean.iloc[0], threshold, confidence[0]),\r\n",
        "        colorForBar(mean.iloc[1], threshold, confidence[1]), \r\n",
        "        colorForBar(mean.iloc[2], threshold, confidence[2]), \r\n",
        "        colorForBar(mean.iloc[3], threshold, confidence[3])]"
      ],
      "execution_count": 54,
      "outputs": []
    },
    {
      "cell_type": "code",
      "metadata": {
        "colab": {
          "base_uri": "https://localhost:8080/",
          "height": 299
        },
        "id": "5leW43AXUCvG",
        "outputId": "d1cc532e-96ab-4b91-cd26-d6d7c54ba546"
      },
      "source": [
        "plt.axhline(y=threshold, zorder=10, linestyle=\"--\", color=\"orange\")\r\n",
        "#trans = transforms.blended_transform_factory(plt.get_yticklabels()[0].get_transform(), plt.transData)\r\n",
        "plt.text(0,threshold, \"{:.0f}\".format(threshold), color=\"orange\", \r\n",
        "        ha=\"right\", va=\"center\")\r\n",
        "plt.xticks(np.arange(len(df.index)), df.index)\r\n",
        "\r\n",
        "plt.title(\"Assignment 3, easy option (threshold = {})\".format(threshold))\r\n",
        "plt.bar(range(df.shape[0]), mean, yerr=confidence,\r\n",
        "        align='center', color=colors)\r\n"
      ],
      "execution_count": 77,
      "outputs": [
        {
          "output_type": "execute_result",
          "data": {
            "text/plain": [
              "<BarContainer object of 4 artists>"
            ]
          },
          "metadata": {
            "tags": []
          },
          "execution_count": 77
        },
        {
          "output_type": "display_data",
          "data": {
            "image/png": "[encoded data removed]",
            "text/plain": [
              "<Figure size 432x288 with 1 Axes>"
            ]
          },
          "metadata": {
            "tags": [],
            "needs_background": "light"
          }
        }
      ]
    },
    {
      "cell_type": "code",
      "metadata": {
        "colab": {
          "base_uri": "https://localhost:8080/",
          "height": 287
        },
        "id": "B7I8j12jXM1B",
        "outputId": "676a97c8-f4ec-441f-9937-ef1cbaa5a559"
      },
      "source": [
        "plt.style.use('seaborn-colorblind')\r\n",
        "plt.scatter(std,confidence,s = confidence,c = 'r',cmap = 'viridis' )\r\n",
        "plt.scatter(std,mean,s = confidence,c = 'b',cmap = 'viridis' )"
      ],
      "execution_count": 83,
      "outputs": [
        {
          "output_type": "execute_result",
          "data": {
            "text/plain": [
              "<matplotlib.collections.PathCollection at 0x7fc9fa53a940>"
            ]
          },
          "metadata": {
            "tags": []
          },
          "execution_count": 83
        },
        {
          "output_type": "display_data",
          "data": {
            "image/png": "[encoded data removed]",
            "text/plain": [
              "<Figure size 432x288 with 1 Axes>"
            ]
          },
          "metadata": {
            "tags": [],
            "needs_background": "light"
          }
        }
      ]
    },
    {
      "cell_type": "code",
      "metadata": {
        "id": "U5uWXgXqZJWl"
      },
      "source": [
        ""
      ],
      "execution_count": 66,
      "outputs": []
    }
  ]
}